{
 "cells": [
  {
   "cell_type": "code",
   "execution_count": null,
   "metadata": {},
   "outputs": [],
   "source": [
    "# !pip install -q -U google-generativeai"
   ]
  },
  {
   "cell_type": "code",
   "execution_count": 2,
   "metadata": {},
   "outputs": [
    {
     "name": "stderr",
     "output_type": "stream",
     "text": [
      "c:\\Users\\kennedy.reis\\AppData\\Local\\anaconda3\\envs\\env_tcc\\lib\\site-packages\\tqdm\\auto.py:21: TqdmWarning: IProgress not found. Please update jupyter and ipywidgets. See https://ipywidgets.readthedocs.io/en/stable/user_install.html\n",
      "  from .autonotebook import tqdm as notebook_tqdm\n"
     ]
    }
   ],
   "source": [
    "import google.generativeai as genai\n",
    "from pathlib import Path\n",
    "from dotenv import load_dotenv\n",
    "import os\n",
    "from IPython.display import display\n",
    "from IPython.display import Markdown\n",
    "import textwrap\n",
    "\n",
    "load_dotenv()\n",
    "\n",
    "GOOGLE_API_KEY= os.getenv('GOOGLE_API_KEY')\n",
    "\n",
    "genai.configure(api_key=GOOGLE_API_KEY)\n",
    "\n",
    "model = genai.GenerativeModel('gemini-pro-vision')"
   ]
  },
  {
   "cell_type": "code",
   "execution_count": 3,
   "metadata": {},
   "outputs": [],
   "source": [
    "def to_markdown(text):\n",
    "  text = text.replace('•', '  *')\n",
    "  return Markdown(textwrap.indent(text, '> ', predicate=lambda _: True))"
   ]
  },
  {
   "cell_type": "code",
   "execution_count": 4,
   "metadata": {},
   "outputs": [],
   "source": [
    "path=Path('./images/remedio.jpg')"
   ]
  },
  {
   "cell_type": "code",
   "execution_count": 5,
   "metadata": {},
   "outputs": [],
   "source": [
    "prompt = \"\"\"\n",
    "Você é um sistema de assistência inteligente projetado para auxiliar pessoas com deficiência visual. Sua função é descrever o ambiente ao redor do usuário, fornecendo informações sobre objetos, pessoas e eventos que possam ser relevantes.\n",
    "\n",
    "Instruções para o Sistema:\n",
    "\n",
    "Imagine que você está interagindo com um usuário que é cego. Seu objetivo é fornecer descrições detalhadas e precisas do ambiente ao redor, de modo que o usuário possa entender o que está acontecendo. Sua descrição deve ser clara, concisa e informativa, ajudando o usuário a navegar e interagir com o mundo ao seu redor.\n",
    "\n",
    "Exemplo de Interpretação do Prompt:\n",
    "\n",
    "Usuário: \"O que está acontecendo ao meu redor agora?\"\n",
    "\n",
    "Sistema: \"Atualmente, você está em um parque. À sua esquerda, há uma área de recreação com crianças brincando em um escorregador e balanços. À sua direita, há uma área de gramado aberta com algumas pessoas sentadas em bancos. Na sua frente, está um lago com patos nadando. Ao fundo, você pode ouvir o som de pássaros e o vento nas árvores.\"\n",
    "\"\"\"\n",
    "\n",
    "cookie_picture = {\n",
    "    'mime_type': 'image/jpeg',\n",
    "    'data': Path(path).read_bytes()\n",
    "}\n",
    "\n",
    "response = model.generate_content(\n",
    "    contents=[prompt, cookie_picture],\n",
    "    stream=True\n",
    ")\n",
    "\n",
    "response.resolve()\n",
    "# to_markdown(response.text)"
   ]
  },
  {
   "cell_type": "code",
   "execution_count": 6,
   "metadata": {},
   "outputs": [
    {
     "data": {
      "text/plain": [
       "' Você está segurando um frasco de remédio branco com uma tampa branca. O frasco tem um rótulo azul e branco com o nome \"Truvada\" escrito nele. Há comprimidos azuis espalhados na mesa ao lado do frasco.'"
      ]
     },
     "execution_count": 6,
     "metadata": {},
     "output_type": "execute_result"
    }
   ],
   "source": [
    "response.text"
   ]
  },
  {
   "cell_type": "code",
   "execution_count": null,
   "metadata": {},
   "outputs": [],
   "source": []
  }
 ],
 "metadata": {
  "kernelspec": {
   "display_name": "env_tcc",
   "language": "python",
   "name": "python3"
  },
  "language_info": {
   "codemirror_mode": {
    "name": "ipython",
    "version": 3
   },
   "file_extension": ".py",
   "mimetype": "text/x-python",
   "name": "python",
   "nbconvert_exporter": "python",
   "pygments_lexer": "ipython3",
   "version": "3.10.13"
  }
 },
 "nbformat": 4,
 "nbformat_minor": 2
}
